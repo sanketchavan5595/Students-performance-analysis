{
  "nbformat": 4,
  "nbformat_minor": 0,
  "metadata": {
    "kernelspec": {
      "display_name": "Python 3",
      "language": "python",
      "name": "python3"
    },
    "language_info": {
      "codemirror_mode": {
        "name": "ipython",
        "version": 3
      },
      "file_extension": ".py",
      "mimetype": "text/x-python",
      "name": "python",
      "nbconvert_exporter": "python",
      "pygments_lexer": "ipython3",
      "version": "3.7.9"
    },
    "colab": {
      "name": "Student Performances.ipynb",
      "provenance": [],
      "collapsed_sections": [],
      "include_colab_link": true
    }
  },
  "cells": [
    {
      "cell_type": "markdown",
      "metadata": {
        "id": "view-in-github",
        "colab_type": "text"
      },
      "source": [
        "<a href=\"https://colab.research.google.com/github/sanketchavan5595/Students-performance-analysis/blob/main/Student_Performances.ipynb\" target=\"_parent\"><img src=\"https://colab.research.google.com/assets/colab-badge.svg\" alt=\"Open In Colab\"/></a>"
      ]
    },
    {
      "cell_type": "code",
      "metadata": {
        "id": "-9hHaCwvbaK2"
      },
      "source": [
        "import pandas as pd\n",
        "import numpy as np \n",
        "import seaborn as sns\n",
        "import matplotlib.pyplot as plt\n",
        "%matplotlib inline"
      ],
      "execution_count": 1,
      "outputs": []
    },
    {
      "cell_type": "markdown",
      "metadata": {
        "id": "jVQjZ1yKbaK7"
      },
      "source": [
        "aim: To understand the influence of the parents background, test preparation etc on students performance\n"
      ]
    },
    {
      "cell_type": "code",
      "metadata": {
        "colab": {
          "base_uri": "https://localhost:8080/",
          "height": 195
        },
        "id": "aVFjaISrbaK8",
        "outputId": "389a361f-682d-443b-b0ab-9cd7e3359d14"
      },
      "source": [
        "file_path = 'https://raw.githubusercontent.com/sanketchavan5595/Students-performance-analysis/main/StudentsPerformance.csv'\n",
        "df = pd.read_csv(file_path)\n",
        "df.head()"
      ],
      "execution_count": 2,
      "outputs": [
        {
          "output_type": "execute_result",
          "data": {
            "text/html": [
              "<div>\n",
              "<style scoped>\n",
              "    .dataframe tbody tr th:only-of-type {\n",
              "        vertical-align: middle;\n",
              "    }\n",
              "\n",
              "    .dataframe tbody tr th {\n",
              "        vertical-align: top;\n",
              "    }\n",
              "\n",
              "    .dataframe thead th {\n",
              "        text-align: right;\n",
              "    }\n",
              "</style>\n",
              "<table border=\"1\" class=\"dataframe\">\n",
              "  <thead>\n",
              "    <tr style=\"text-align: right;\">\n",
              "      <th></th>\n",
              "      <th>gender</th>\n",
              "      <th>race/ethnicity</th>\n",
              "      <th>parental level of education</th>\n",
              "      <th>lunch</th>\n",
              "      <th>test preparation course</th>\n",
              "      <th>math score</th>\n",
              "      <th>reading score</th>\n",
              "      <th>writing score</th>\n",
              "    </tr>\n",
              "  </thead>\n",
              "  <tbody>\n",
              "    <tr>\n",
              "      <th>0</th>\n",
              "      <td>female</td>\n",
              "      <td>group B</td>\n",
              "      <td>bachelor's degree</td>\n",
              "      <td>standard</td>\n",
              "      <td>none</td>\n",
              "      <td>72</td>\n",
              "      <td>72</td>\n",
              "      <td>74</td>\n",
              "    </tr>\n",
              "    <tr>\n",
              "      <th>1</th>\n",
              "      <td>female</td>\n",
              "      <td>group C</td>\n",
              "      <td>some college</td>\n",
              "      <td>standard</td>\n",
              "      <td>completed</td>\n",
              "      <td>69</td>\n",
              "      <td>90</td>\n",
              "      <td>88</td>\n",
              "    </tr>\n",
              "    <tr>\n",
              "      <th>2</th>\n",
              "      <td>female</td>\n",
              "      <td>group B</td>\n",
              "      <td>master's degree</td>\n",
              "      <td>standard</td>\n",
              "      <td>none</td>\n",
              "      <td>90</td>\n",
              "      <td>95</td>\n",
              "      <td>93</td>\n",
              "    </tr>\n",
              "    <tr>\n",
              "      <th>3</th>\n",
              "      <td>male</td>\n",
              "      <td>group A</td>\n",
              "      <td>associate's degree</td>\n",
              "      <td>free/reduced</td>\n",
              "      <td>none</td>\n",
              "      <td>47</td>\n",
              "      <td>57</td>\n",
              "      <td>44</td>\n",
              "    </tr>\n",
              "    <tr>\n",
              "      <th>4</th>\n",
              "      <td>male</td>\n",
              "      <td>group C</td>\n",
              "      <td>some college</td>\n",
              "      <td>standard</td>\n",
              "      <td>none</td>\n",
              "      <td>76</td>\n",
              "      <td>78</td>\n",
              "      <td>75</td>\n",
              "    </tr>\n",
              "  </tbody>\n",
              "</table>\n",
              "</div>"
            ],
            "text/plain": [
              "   gender race/ethnicity  ... reading score writing score\n",
              "0  female        group B  ...            72            74\n",
              "1  female        group C  ...            90            88\n",
              "2  female        group B  ...            95            93\n",
              "3    male        group A  ...            57            44\n",
              "4    male        group C  ...            78            75\n",
              "\n",
              "[5 rows x 8 columns]"
            ]
          },
          "metadata": {
            "tags": []
          },
          "execution_count": 2
        }
      ]
    },
    {
      "cell_type": "code",
      "metadata": {
        "id": "P7biyryAbaK9",
        "colab": {
          "base_uri": "https://localhost:8080/"
        },
        "outputId": "059116ee-9026-434e-9332-e66c07a08500"
      },
      "source": [
        "df.info()"
      ],
      "execution_count": 3,
      "outputs": [
        {
          "output_type": "stream",
          "text": [
            "<class 'pandas.core.frame.DataFrame'>\n",
            "RangeIndex: 1000 entries, 0 to 999\n",
            "Data columns (total 8 columns):\n",
            " #   Column                       Non-Null Count  Dtype \n",
            "---  ------                       --------------  ----- \n",
            " 0   gender                       1000 non-null   object\n",
            " 1   race/ethnicity               1000 non-null   object\n",
            " 2   parental level of education  1000 non-null   object\n",
            " 3   lunch                        1000 non-null   object\n",
            " 4   test preparation course      1000 non-null   object\n",
            " 5   math score                   1000 non-null   int64 \n",
            " 6   reading score                1000 non-null   int64 \n",
            " 7   writing score                1000 non-null   int64 \n",
            "dtypes: int64(3), object(5)\n",
            "memory usage: 62.6+ KB\n"
          ],
          "name": "stdout"
        }
      ]
    },
    {
      "cell_type": "code",
      "metadata": {
        "id": "ZOUKcb5abaK-",
        "colab": {
          "base_uri": "https://localhost:8080/",
          "height": 284
        },
        "outputId": "8f3ebdce-3e66-4387-ccc9-68690773cacf"
      },
      "source": [
        "df.describe()"
      ],
      "execution_count": 4,
      "outputs": [
        {
          "output_type": "execute_result",
          "data": {
            "text/html": [
              "<div>\n",
              "<style scoped>\n",
              "    .dataframe tbody tr th:only-of-type {\n",
              "        vertical-align: middle;\n",
              "    }\n",
              "\n",
              "    .dataframe tbody tr th {\n",
              "        vertical-align: top;\n",
              "    }\n",
              "\n",
              "    .dataframe thead th {\n",
              "        text-align: right;\n",
              "    }\n",
              "</style>\n",
              "<table border=\"1\" class=\"dataframe\">\n",
              "  <thead>\n",
              "    <tr style=\"text-align: right;\">\n",
              "      <th></th>\n",
              "      <th>math score</th>\n",
              "      <th>reading score</th>\n",
              "      <th>writing score</th>\n",
              "    </tr>\n",
              "  </thead>\n",
              "  <tbody>\n",
              "    <tr>\n",
              "      <th>count</th>\n",
              "      <td>1000.00000</td>\n",
              "      <td>1000.000000</td>\n",
              "      <td>1000.000000</td>\n",
              "    </tr>\n",
              "    <tr>\n",
              "      <th>mean</th>\n",
              "      <td>66.08900</td>\n",
              "      <td>69.169000</td>\n",
              "      <td>68.054000</td>\n",
              "    </tr>\n",
              "    <tr>\n",
              "      <th>std</th>\n",
              "      <td>15.16308</td>\n",
              "      <td>14.600192</td>\n",
              "      <td>15.195657</td>\n",
              "    </tr>\n",
              "    <tr>\n",
              "      <th>min</th>\n",
              "      <td>0.00000</td>\n",
              "      <td>17.000000</td>\n",
              "      <td>10.000000</td>\n",
              "    </tr>\n",
              "    <tr>\n",
              "      <th>25%</th>\n",
              "      <td>57.00000</td>\n",
              "      <td>59.000000</td>\n",
              "      <td>57.750000</td>\n",
              "    </tr>\n",
              "    <tr>\n",
              "      <th>50%</th>\n",
              "      <td>66.00000</td>\n",
              "      <td>70.000000</td>\n",
              "      <td>69.000000</td>\n",
              "    </tr>\n",
              "    <tr>\n",
              "      <th>75%</th>\n",
              "      <td>77.00000</td>\n",
              "      <td>79.000000</td>\n",
              "      <td>79.000000</td>\n",
              "    </tr>\n",
              "    <tr>\n",
              "      <th>max</th>\n",
              "      <td>100.00000</td>\n",
              "      <td>100.000000</td>\n",
              "      <td>100.000000</td>\n",
              "    </tr>\n",
              "  </tbody>\n",
              "</table>\n",
              "</div>"
            ],
            "text/plain": [
              "       math score  reading score  writing score\n",
              "count  1000.00000    1000.000000    1000.000000\n",
              "mean     66.08900      69.169000      68.054000\n",
              "std      15.16308      14.600192      15.195657\n",
              "min       0.00000      17.000000      10.000000\n",
              "25%      57.00000      59.000000      57.750000\n",
              "50%      66.00000      70.000000      69.000000\n",
              "75%      77.00000      79.000000      79.000000\n",
              "max     100.00000     100.000000     100.000000"
            ]
          },
          "metadata": {
            "tags": []
          },
          "execution_count": 4
        }
      ]
    },
    {
      "cell_type": "code",
      "metadata": {
        "id": "NcgjnGaObaK-",
        "colab": {
          "base_uri": "https://localhost:8080/"
        },
        "outputId": "0526e828-7a5d-4f4a-c793-edc7187df034"
      },
      "source": [
        "df.columns"
      ],
      "execution_count": 5,
      "outputs": [
        {
          "output_type": "execute_result",
          "data": {
            "text/plain": [
              "Index(['gender', 'race/ethnicity', 'parental level of education', 'lunch',\n",
              "       'test preparation course', 'math score', 'reading score',\n",
              "       'writing score'],\n",
              "      dtype='object')"
            ]
          },
          "metadata": {
            "tags": []
          },
          "execution_count": 5
        }
      ]
    },
    {
      "cell_type": "markdown",
      "metadata": {
        "id": "GhWFJZpEbaK-"
      },
      "source": [
        "### Variable identification \n",
        "\n",
        "* **Categorical variables**\n",
        "    * gender\n",
        "    * race/ethnicity\n",
        "    * parental level of education\n",
        "    * lunch\n",
        "  \n",
        "* **Numerical variables**\n",
        "    * math score\n",
        "    * reading score\n",
        "    * writing score"
      ]
    },
    {
      "cell_type": "markdown",
      "metadata": {
        "id": "lj1KNxsEbaK-"
      },
      "source": [
        "## Numerical variables\n",
        "\n",
        "### Let's identify the relationship between the scores"
      ]
    },
    {
      "cell_type": "code",
      "metadata": {
        "colab": {
          "base_uri": "https://localhost:8080/",
          "height": 458
        },
        "id": "KJsvnJZ83iAa",
        "outputId": "2810b8b5-4938-47de-c500-e2ac501ca013"
      },
      "source": [
        "plt.figure(figsize= (7,7))\r\n",
        "\r\n",
        "plt.title('Math score distribution')\r\n",
        "sns.histplot(df['math score']);"
      ],
      "execution_count": 40,
      "outputs": [
        {
          "output_type": "display_data",
          "data": {
            "image/png": "[encoded data removed]",
            "text/plain": [
              "<Figure size 504x504 with 1 Axes>"
            ]
          },
          "metadata": {
            "tags": [],
            "needs_background": "light"
          }
        }
      ]
    },
    {
      "cell_type": "code",
      "metadata": {
        "colab": {
          "base_uri": "https://localhost:8080/",
          "height": 458
        },
        "id": "edYom27E3le3",
        "outputId": "d1cd7d8f-30ea-423f-ca2e-bfe7ac616825"
      },
      "source": [
        "plt.figure(figsize= (7,7))\r\n",
        "\r\n",
        "plt.title('Reading score distribution')\r\n",
        "sns.histplot(df['reading score']);"
      ],
      "execution_count": 42,
      "outputs": [
        {
          "output_type": "display_data",
          "data": {
            "image/png": "[encoded data removed]",
            "text/plain": [
              "<Figure size 504x504 with 1 Axes>"
            ]
          },
          "metadata": {
            "tags": [],
            "needs_background": "light"
          }
        }
      ]
    },
    {
      "cell_type": "code",
      "metadata": {
        "colab": {
          "base_uri": "https://localhost:8080/",
          "height": 458
        },
        "id": "m_Ova3Lm3tE4",
        "outputId": "b82ccbb7-47f1-4114-f237-f92883ef9164"
      },
      "source": [
        "plt.figure(figsize= (7,7))\r\n",
        "\r\n",
        "plt.title('Writing score distribution')\r\n",
        "sns.histplot(df['writing score']);"
      ],
      "execution_count": 43,
      "outputs": [
        {
          "output_type": "display_data",
          "data": {
            "image/png": "[encoded data removed]",
            "text/plain": [
              "<Figure size 504x504 with 1 Axes>"
            ]
          },
          "metadata": {
            "tags": [],
            "needs_background": "light"
          }
        }
      ]
    },
    {
      "cell_type": "code",
      "metadata": {
        "id": "MQMYASRfbaK_",
        "colab": {
          "base_uri": "https://localhost:8080/",
          "height": 458
        },
        "outputId": "53de8ceb-a815-4cc6-b1fa-102b7ea086b5"
      },
      "source": [
        "plt.figure(figsize= (7,7))\n",
        "plt.title(\"Relationship between math score and reading score\")\n",
        "sns.lineplot(x = 'math score', \n",
        "             y = 'reading score',\n",
        "             data = df);"
      ],
      "execution_count": 6,
      "outputs": [
        {
          "output_type": "display_data",
          "data": {
            "image/png": "[encoded data removed]",
            "text/plain": [
              "<Figure size 504x504 with 1 Axes>"
            ]
          },
          "metadata": {
            "tags": [],
            "needs_background": "light"
          }
        }
      ]
    },
    {
      "cell_type": "code",
      "metadata": {
        "id": "CP7V0v_VbaK_",
        "colab": {
          "base_uri": "https://localhost:8080/",
          "height": 458
        },
        "outputId": "cc1d6b09-27fa-4c8b-c2e2-3f80d10eb955"
      },
      "source": [
        "plt.figure(figsize= (7,7))\n",
        "plt.title(\"Relationship between writing score and reading score\")\n",
        "sns.lineplot(x = 'writing score', \n",
        "             y = 'reading score',\n",
        "             data = df);"
      ],
      "execution_count": 7,
      "outputs": [
        {
          "output_type": "display_data",
          "data": {
            "image/png": "[encoded data removed]",
            "text/plain": [
              "<Figure size 504x504 with 1 Axes>"
            ]
          },
          "metadata": {
            "tags": [],
            "needs_background": "light"
          }
        }
      ]
    },
    {
      "cell_type": "code",
      "metadata": {
        "id": "e8x2jgPPbaK_",
        "colab": {
          "base_uri": "https://localhost:8080/",
          "height": 458
        },
        "outputId": "3ba35254-10a9-4f00-f4f5-33c6f8caaa3f"
      },
      "source": [
        "plt.figure(figsize= (7,7))\n",
        "plt.title(\"Relationship between math score and writing score\")\n",
        "sns.lineplot(x = 'math score', \n",
        "             y = 'writing score',\n",
        "             data = df);"
      ],
      "execution_count": 8,
      "outputs": [
        {
          "output_type": "display_data",
          "data": {
            "image/png": "[encoded data removed]",
            "text/plain": [
              "<Figure size 504x504 with 1 Axes>"
            ]
          },
          "metadata": {
            "tags": [],
            "needs_background": "light"
          }
        }
      ]
    },
    {
      "cell_type": "markdown",
      "metadata": {
        "id": "GaTHnvsbbaLA"
      },
      "source": [
        "**All the graphs above indicate that scores follow a linear relationship with each other**"
      ]
    },
    {
      "cell_type": "markdown",
      "metadata": {
        "id": "IV-frMSYbaLA"
      },
      "source": [
        "***let's add the column of average score in the dataset. We will be using that column to identify its relationship with other categorical variables***"
      ]
    },
    {
      "cell_type": "code",
      "metadata": {
        "id": "BQaeaRHfbaLA",
        "colab": {
          "base_uri": "https://localhost:8080/",
          "height": 402
        },
        "outputId": "a8f12cd5-856f-4372-a088-eff475b389b8"
      },
      "source": [
        "df['average score'] = (df['math score'] + df['writing score'] + df['reading score']) / 3\n",
        "df"
      ],
      "execution_count": 9,
      "outputs": [
        {
          "output_type": "execute_result",
          "data": {
            "text/html": [
              "<div>\n",
              "<style scoped>\n",
              "    .dataframe tbody tr th:only-of-type {\n",
              "        vertical-align: middle;\n",
              "    }\n",
              "\n",
              "    .dataframe tbody tr th {\n",
              "        vertical-align: top;\n",
              "    }\n",
              "\n",
              "    .dataframe thead th {\n",
              "        text-align: right;\n",
              "    }\n",
              "</style>\n",
              "<table border=\"1\" class=\"dataframe\">\n",
              "  <thead>\n",
              "    <tr style=\"text-align: right;\">\n",
              "      <th></th>\n",
              "      <th>gender</th>\n",
              "      <th>race/ethnicity</th>\n",
              "      <th>parental level of education</th>\n",
              "      <th>lunch</th>\n",
              "      <th>test preparation course</th>\n",
              "      <th>math score</th>\n",
              "      <th>reading score</th>\n",
              "      <th>writing score</th>\n",
              "      <th>average score</th>\n",
              "    </tr>\n",
              "  </thead>\n",
              "  <tbody>\n",
              "    <tr>\n",
              "      <th>0</th>\n",
              "      <td>female</td>\n",
              "      <td>group B</td>\n",
              "      <td>bachelor's degree</td>\n",
              "      <td>standard</td>\n",
              "      <td>none</td>\n",
              "      <td>72</td>\n",
              "      <td>72</td>\n",
              "      <td>74</td>\n",
              "      <td>72.666667</td>\n",
              "    </tr>\n",
              "    <tr>\n",
              "      <th>1</th>\n",
              "      <td>female</td>\n",
              "      <td>group C</td>\n",
              "      <td>some college</td>\n",
              "      <td>standard</td>\n",
              "      <td>completed</td>\n",
              "      <td>69</td>\n",
              "      <td>90</td>\n",
              "      <td>88</td>\n",
              "      <td>82.333333</td>\n",
              "    </tr>\n",
              "    <tr>\n",
              "      <th>2</th>\n",
              "      <td>female</td>\n",
              "      <td>group B</td>\n",
              "      <td>master's degree</td>\n",
              "      <td>standard</td>\n",
              "      <td>none</td>\n",
              "      <td>90</td>\n",
              "      <td>95</td>\n",
              "      <td>93</td>\n",
              "      <td>92.666667</td>\n",
              "    </tr>\n",
              "    <tr>\n",
              "      <th>3</th>\n",
              "      <td>male</td>\n",
              "      <td>group A</td>\n",
              "      <td>associate's degree</td>\n",
              "      <td>free/reduced</td>\n",
              "      <td>none</td>\n",
              "      <td>47</td>\n",
              "      <td>57</td>\n",
              "      <td>44</td>\n",
              "      <td>49.333333</td>\n",
              "    </tr>\n",
              "    <tr>\n",
              "      <th>4</th>\n",
              "      <td>male</td>\n",
              "      <td>group C</td>\n",
              "      <td>some college</td>\n",
              "      <td>standard</td>\n",
              "      <td>none</td>\n",
              "      <td>76</td>\n",
              "      <td>78</td>\n",
              "      <td>75</td>\n",
              "      <td>76.333333</td>\n",
              "    </tr>\n",
              "    <tr>\n",
              "      <th>...</th>\n",
              "      <td>...</td>\n",
              "      <td>...</td>\n",
              "      <td>...</td>\n",
              "      <td>...</td>\n",
              "      <td>...</td>\n",
              "      <td>...</td>\n",
              "      <td>...</td>\n",
              "      <td>...</td>\n",
              "      <td>...</td>\n",
              "    </tr>\n",
              "    <tr>\n",
              "      <th>995</th>\n",
              "      <td>female</td>\n",
              "      <td>group E</td>\n",
              "      <td>master's degree</td>\n",
              "      <td>standard</td>\n",
              "      <td>completed</td>\n",
              "      <td>88</td>\n",
              "      <td>99</td>\n",
              "      <td>95</td>\n",
              "      <td>94.000000</td>\n",
              "    </tr>\n",
              "    <tr>\n",
              "      <th>996</th>\n",
              "      <td>male</td>\n",
              "      <td>group C</td>\n",
              "      <td>high school</td>\n",
              "      <td>free/reduced</td>\n",
              "      <td>none</td>\n",
              "      <td>62</td>\n",
              "      <td>55</td>\n",
              "      <td>55</td>\n",
              "      <td>57.333333</td>\n",
              "    </tr>\n",
              "    <tr>\n",
              "      <th>997</th>\n",
              "      <td>female</td>\n",
              "      <td>group C</td>\n",
              "      <td>high school</td>\n",
              "      <td>free/reduced</td>\n",
              "      <td>completed</td>\n",
              "      <td>59</td>\n",
              "      <td>71</td>\n",
              "      <td>65</td>\n",
              "      <td>65.000000</td>\n",
              "    </tr>\n",
              "    <tr>\n",
              "      <th>998</th>\n",
              "      <td>female</td>\n",
              "      <td>group D</td>\n",
              "      <td>some college</td>\n",
              "      <td>standard</td>\n",
              "      <td>completed</td>\n",
              "      <td>68</td>\n",
              "      <td>78</td>\n",
              "      <td>77</td>\n",
              "      <td>74.333333</td>\n",
              "    </tr>\n",
              "    <tr>\n",
              "      <th>999</th>\n",
              "      <td>female</td>\n",
              "      <td>group D</td>\n",
              "      <td>some college</td>\n",
              "      <td>free/reduced</td>\n",
              "      <td>none</td>\n",
              "      <td>77</td>\n",
              "      <td>86</td>\n",
              "      <td>86</td>\n",
              "      <td>83.000000</td>\n",
              "    </tr>\n",
              "  </tbody>\n",
              "</table>\n",
              "<p>1000 rows × 9 columns</p>\n",
              "</div>"
            ],
            "text/plain": [
              "     gender race/ethnicity  ... writing score average score\n",
              "0    female        group B  ...            74     72.666667\n",
              "1    female        group C  ...            88     82.333333\n",
              "2    female        group B  ...            93     92.666667\n",
              "3      male        group A  ...            44     49.333333\n",
              "4      male        group C  ...            75     76.333333\n",
              "..      ...            ...  ...           ...           ...\n",
              "995  female        group E  ...            95     94.000000\n",
              "996    male        group C  ...            55     57.333333\n",
              "997  female        group C  ...            65     65.000000\n",
              "998  female        group D  ...            77     74.333333\n",
              "999  female        group D  ...            86     83.000000\n",
              "\n",
              "[1000 rows x 9 columns]"
            ]
          },
          "metadata": {
            "tags": []
          },
          "execution_count": 9
        }
      ]
    },
    {
      "cell_type": "markdown",
      "metadata": {
        "id": "gU__NKqPbaLA"
      },
      "source": [
        "## --"
      ]
    },
    {
      "cell_type": "markdown",
      "metadata": {
        "id": "0-3JcTm4baLA"
      },
      "source": [
        "## Categorical variables\n",
        "\n",
        " * gender\n",
        " * race/ethnicity\n",
        " * parental level of education\n",
        " * lunch\n",
        " * test preparation course\n",
        "\n",
        "\n",
        "### gender"
      ]
    },
    {
      "cell_type": "code",
      "metadata": {
        "id": "rC3znTjFbaLA",
        "colab": {
          "base_uri": "https://localhost:8080/"
        },
        "outputId": "39c4f44e-3429-4543-85cf-cd9d52eb47b2"
      },
      "source": [
        "df['gender'].value_counts()"
      ],
      "execution_count": 10,
      "outputs": [
        {
          "output_type": "execute_result",
          "data": {
            "text/plain": [
              "female    518\n",
              "male      482\n",
              "Name: gender, dtype: int64"
            ]
          },
          "metadata": {
            "tags": []
          },
          "execution_count": 10
        }
      ]
    },
    {
      "cell_type": "code",
      "metadata": {
        "id": "JCtOEpH0baLB",
        "colab": {
          "base_uri": "https://localhost:8080/",
          "height": 458
        },
        "outputId": "7c00f430-2ce2-4d6c-a8a2-cf01f1354f88"
      },
      "source": [
        "plt.figure(figsize= (7,7))\n",
        "plt.title('Gender v/s average score')\n",
        "sns.barplot(x = 'gender', \n",
        "            y = 'average score',\n",
        "            data = df);"
      ],
      "execution_count": 11,
      "outputs": [
        {
          "output_type": "display_data",
          "data": {
            "image/png": "[encoded data removed]",
            "text/plain": [
              "<Figure size 504x504 with 1 Axes>"
            ]
          },
          "metadata": {
            "tags": [],
            "needs_background": "light"
          }
        }
      ]
    },
    {
      "cell_type": "markdown",
      "metadata": {
        "id": "WXG6tkTtbaLB"
      },
      "source": [
        "**Female gender has higher average score than Male gender**"
      ]
    },
    {
      "cell_type": "markdown",
      "metadata": {
        "id": "empmARZHbaLB"
      },
      "source": [
        "### race/ethnicity"
      ]
    },
    {
      "cell_type": "code",
      "metadata": {
        "id": "SH3Qcyl1baLB",
        "colab": {
          "base_uri": "https://localhost:8080/"
        },
        "outputId": "c7725faf-cc08-4024-fd96-ac0008382973"
      },
      "source": [
        "df['race/ethnicity'].value_counts()"
      ],
      "execution_count": 12,
      "outputs": [
        {
          "output_type": "execute_result",
          "data": {
            "text/plain": [
              "group C    319\n",
              "group D    262\n",
              "group B    190\n",
              "group E    140\n",
              "group A     89\n",
              "Name: race/ethnicity, dtype: int64"
            ]
          },
          "metadata": {
            "tags": []
          },
          "execution_count": 12
        }
      ]
    },
    {
      "cell_type": "code",
      "metadata": {
        "id": "YPG-eW9tbaLB",
        "colab": {
          "base_uri": "https://localhost:8080/",
          "height": 458
        },
        "outputId": "8aeb1da8-5e19-4ae7-8f23-720332533b0b"
      },
      "source": [
        "plt.figure(figsize= (7,7))\n",
        "\n",
        "plt.title('Race/ethnicity v/s average score')\n",
        "sns.barplot(x = 'race/ethnicity', \n",
        "            y = 'average score', \n",
        "            hue = 'gender',\n",
        "            palette = 'hls',\n",
        "            data = df);"
      ],
      "execution_count": 13,
      "outputs": [
        {
          "output_type": "display_data",
          "data": {
            "image/png": "[encoded data removed]",
            "text/plain": [
              "<Figure size 504x504 with 1 Axes>"
            ]
          },
          "metadata": {
            "tags": [],
            "needs_background": "light"
          }
        }
      ]
    },
    {
      "cell_type": "markdown",
      "metadata": {
        "id": "8YhutN2dbaLC"
      },
      "source": [
        "**Student of Group A have the lowest average scores and the students of Group E have the highest**"
      ]
    },
    {
      "cell_type": "markdown",
      "metadata": {
        "id": "ZH4n950ebaLC"
      },
      "source": [
        "### Parental level of education"
      ]
    },
    {
      "cell_type": "code",
      "metadata": {
        "id": "P5qk5O4KbaLC",
        "colab": {
          "base_uri": "https://localhost:8080/"
        },
        "outputId": "3a495bbf-0a0b-4462-a4aa-3c11c6519bd4"
      },
      "source": [
        "df['parental level of education'].value_counts()"
      ],
      "execution_count": 14,
      "outputs": [
        {
          "output_type": "execute_result",
          "data": {
            "text/plain": [
              "some college          226\n",
              "associate's degree    222\n",
              "high school           196\n",
              "some high school      179\n",
              "bachelor's degree     118\n",
              "master's degree        59\n",
              "Name: parental level of education, dtype: int64"
            ]
          },
          "metadata": {
            "tags": []
          },
          "execution_count": 14
        }
      ]
    },
    {
      "cell_type": "code",
      "metadata": {
        "id": "H-yYdkhFbaLC",
        "colab": {
          "base_uri": "https://localhost:8080/",
          "height": 542
        },
        "outputId": "8f31e573-6cc7-4a5c-afc8-8104b36932c1"
      },
      "source": [
        "plt.figure(figsize= (7,7))\n",
        "plt.title('Parental level of education v/s average score')\n",
        "plt.xticks(rotation = 90)\n",
        "sns.barplot(x = 'parental level of education', \n",
        "            y = 'average score', \n",
        "            data = df,\n",
        "            hue = 'gender',\n",
        "            palette = 'tab10');"
      ],
      "execution_count": 15,
      "outputs": [
        {
          "output_type": "display_data",
          "data": {
            "image/png": "[encoded data removed]",
            "text/plain": [
              "<Figure size 504x504 with 1 Axes>"
            ]
          },
          "metadata": {
            "tags": [],
            "needs_background": "light"
          }
        }
      ]
    },
    {
      "cell_type": "markdown",
      "metadata": {
        "id": "lUh7Iy99baLC"
      },
      "source": [
        "**Student who have highly educated parents have higher average score** "
      ]
    },
    {
      "cell_type": "markdown",
      "metadata": {
        "id": "0rTtjWBabaLC"
      },
      "source": [
        "### lunch"
      ]
    },
    {
      "cell_type": "markdown",
      "metadata": {
        "id": "rdAuSarabaLD"
      },
      "source": [
        "* Students in the United States whose household income is less than 130% of the poverty line qualify for free lunch, and students whose household income is between 130% and 185% of the poverty line qualify for reduced-price lunch.\n",
        "* Free or reduced lunch status is used to major socio-economic disadvantage"
      ]
    },
    {
      "cell_type": "code",
      "metadata": {
        "id": "buFXaPdYbaLD",
        "colab": {
          "base_uri": "https://localhost:8080/"
        },
        "outputId": "c87820e8-6403-4c04-a1f1-a550bd922f87"
      },
      "source": [
        "df.lunch.value_counts()"
      ],
      "execution_count": 16,
      "outputs": [
        {
          "output_type": "execute_result",
          "data": {
            "text/plain": [
              "standard        645\n",
              "free/reduced    355\n",
              "Name: lunch, dtype: int64"
            ]
          },
          "metadata": {
            "tags": []
          },
          "execution_count": 16
        }
      ]
    },
    {
      "cell_type": "code",
      "metadata": {
        "id": "zs14NzMjbaLD",
        "colab": {
          "base_uri": "https://localhost:8080/",
          "height": 458
        },
        "outputId": "16a32a4d-422e-473a-da10-de7a9bf378dd"
      },
      "source": [
        "plt.figure(figsize= (7,7))\n",
        "plt.title('lunch v/s v/s average score')\n",
        "sns.barplot(x = 'lunch', \n",
        "            y = 'average score', \n",
        "            data = df, \n",
        "            palette = 'hls');"
      ],
      "execution_count": 17,
      "outputs": [
        {
          "output_type": "display_data",
          "data": {
            "image/png": "[encoded data removed]",
            "text/plain": [
              "<Figure size 504x504 with 1 Axes>"
            ]
          },
          "metadata": {
            "tags": [],
            "needs_background": "light"
          }
        }
      ]
    },
    {
      "cell_type": "markdown",
      "metadata": {
        "id": "avAG0PNLbaLD"
      },
      "source": [
        "### test preparation course"
      ]
    },
    {
      "cell_type": "code",
      "metadata": {
        "id": "7B5zZdnpbaLD",
        "colab": {
          "base_uri": "https://localhost:8080/"
        },
        "outputId": "569b6482-e479-4c58-e677-c5f64fd6b9c9"
      },
      "source": [
        "df['test preparation course'].value_counts()"
      ],
      "execution_count": 18,
      "outputs": [
        {
          "output_type": "execute_result",
          "data": {
            "text/plain": [
              "none         642\n",
              "completed    358\n",
              "Name: test preparation course, dtype: int64"
            ]
          },
          "metadata": {
            "tags": []
          },
          "execution_count": 18
        }
      ]
    },
    {
      "cell_type": "code",
      "metadata": {
        "id": "1OnAviUfbaLD",
        "colab": {
          "base_uri": "https://localhost:8080/",
          "height": 458
        },
        "outputId": "1fc8f974-8582-46ae-85da-a42dcf5806f0"
      },
      "source": [
        "plt.figure(figsize= (7,7))\n",
        "\n",
        "plt.title('test preparation course v/s v/s average score')\n",
        "\n",
        "sns.barplot(x = 'test preparation course', \n",
        "            y = 'average score', \n",
        "            data = df);"
      ],
      "execution_count": 19,
      "outputs": [
        {
          "output_type": "display_data",
          "data": {
            "image/png": "[encoded data removed]",
            "text/plain": [
              "<Figure size 504x504 with 1 Axes>"
            ]
          },
          "metadata": {
            "tags": [],
            "needs_background": "light"
          }
        }
      ]
    },
    {
      "cell_type": "markdown",
      "metadata": {
        "id": "SLldSoi9baLE"
      },
      "source": [
        "**Students who have completed the test preparation course have higher marks than the ones who did not**"
      ]
    },
    {
      "cell_type": "markdown",
      "metadata": {
        "id": "JxTsNcbGbaLE"
      },
      "source": [
        "# Deriving the insights"
      ]
    },
    {
      "cell_type": "code",
      "metadata": {
        "id": "Jy219JdpbaLE",
        "colab": {
          "base_uri": "https://localhost:8080/",
          "height": 432
        },
        "outputId": "e077a673-4a10-4971-b60b-d8f50b5eadc9"
      },
      "source": [
        "df1 = df.groupby(['gender','parental level of education'])[['reading score', 'math score', 'writing score']].mean()\n",
        "df1"
      ],
      "execution_count": 20,
      "outputs": [
        {
          "output_type": "execute_result",
          "data": {
            "text/html": [
              "<div>\n",
              "<style scoped>\n",
              "    .dataframe tbody tr th:only-of-type {\n",
              "        vertical-align: middle;\n",
              "    }\n",
              "\n",
              "    .dataframe tbody tr th {\n",
              "        vertical-align: top;\n",
              "    }\n",
              "\n",
              "    .dataframe thead th {\n",
              "        text-align: right;\n",
              "    }\n",
              "</style>\n",
              "<table border=\"1\" class=\"dataframe\">\n",
              "  <thead>\n",
              "    <tr style=\"text-align: right;\">\n",
              "      <th></th>\n",
              "      <th></th>\n",
              "      <th>reading score</th>\n",
              "      <th>math score</th>\n",
              "      <th>writing score</th>\n",
              "    </tr>\n",
              "    <tr>\n",
              "      <th>gender</th>\n",
              "      <th>parental level of education</th>\n",
              "      <th></th>\n",
              "      <th></th>\n",
              "      <th></th>\n",
              "    </tr>\n",
              "  </thead>\n",
              "  <tbody>\n",
              "    <tr>\n",
              "      <th rowspan=\"6\" valign=\"top\">female</th>\n",
              "      <th>associate's degree</th>\n",
              "      <td>74.120690</td>\n",
              "      <td>65.250000</td>\n",
              "      <td>74.000000</td>\n",
              "    </tr>\n",
              "    <tr>\n",
              "      <th>bachelor's degree</th>\n",
              "      <td>77.285714</td>\n",
              "      <td>68.349206</td>\n",
              "      <td>78.380952</td>\n",
              "    </tr>\n",
              "    <tr>\n",
              "      <th>high school</th>\n",
              "      <td>68.202128</td>\n",
              "      <td>59.351064</td>\n",
              "      <td>66.691489</td>\n",
              "    </tr>\n",
              "    <tr>\n",
              "      <th>master's degree</th>\n",
              "      <td>76.805556</td>\n",
              "      <td>66.500000</td>\n",
              "      <td>77.638889</td>\n",
              "    </tr>\n",
              "    <tr>\n",
              "      <th>some college</th>\n",
              "      <td>73.550847</td>\n",
              "      <td>65.406780</td>\n",
              "      <td>74.050847</td>\n",
              "    </tr>\n",
              "    <tr>\n",
              "      <th>some high school</th>\n",
              "      <td>69.109890</td>\n",
              "      <td>59.296703</td>\n",
              "      <td>68.285714</td>\n",
              "    </tr>\n",
              "    <tr>\n",
              "      <th rowspan=\"6\" valign=\"top\">male</th>\n",
              "      <th>associate's degree</th>\n",
              "      <td>67.433962</td>\n",
              "      <td>70.764151</td>\n",
              "      <td>65.405660</td>\n",
              "    </tr>\n",
              "    <tr>\n",
              "      <th>bachelor's degree</th>\n",
              "      <td>68.090909</td>\n",
              "      <td>70.581818</td>\n",
              "      <td>67.654545</td>\n",
              "    </tr>\n",
              "    <tr>\n",
              "      <th>high school</th>\n",
              "      <td>61.480392</td>\n",
              "      <td>64.705882</td>\n",
              "      <td>58.539216</td>\n",
              "    </tr>\n",
              "    <tr>\n",
              "      <th>master's degree</th>\n",
              "      <td>73.130435</td>\n",
              "      <td>74.826087</td>\n",
              "      <td>72.608696</td>\n",
              "    </tr>\n",
              "    <tr>\n",
              "      <th>some college</th>\n",
              "      <td>64.990741</td>\n",
              "      <td>69.009259</td>\n",
              "      <td>63.148148</td>\n",
              "    </tr>\n",
              "    <tr>\n",
              "      <th>some high school</th>\n",
              "      <td>64.693182</td>\n",
              "      <td>67.840909</td>\n",
              "      <td>61.375000</td>\n",
              "    </tr>\n",
              "  </tbody>\n",
              "</table>\n",
              "</div>"
            ],
            "text/plain": [
              "                                    reading score  math score  writing score\n",
              "gender parental level of education                                          \n",
              "female associate's degree               74.120690   65.250000      74.000000\n",
              "       bachelor's degree                77.285714   68.349206      78.380952\n",
              "       high school                      68.202128   59.351064      66.691489\n",
              "       master's degree                  76.805556   66.500000      77.638889\n",
              "       some college                     73.550847   65.406780      74.050847\n",
              "       some high school                 69.109890   59.296703      68.285714\n",
              "male   associate's degree               67.433962   70.764151      65.405660\n",
              "       bachelor's degree                68.090909   70.581818      67.654545\n",
              "       high school                      61.480392   64.705882      58.539216\n",
              "       master's degree                  73.130435   74.826087      72.608696\n",
              "       some college                     64.990741   69.009259      63.148148\n",
              "       some high school                 64.693182   67.840909      61.375000"
            ]
          },
          "metadata": {
            "tags": []
          },
          "execution_count": 20
        }
      ]
    },
    {
      "cell_type": "markdown",
      "metadata": {
        "id": "WlW0PSZObaLE"
      },
      "source": [
        "**Among students with same parental level of education, female students have higher average reading and writing scores than their male counterparts. Where male students have higher average math scores**"
      ]
    },
    {
      "cell_type": "code",
      "metadata": {
        "id": "9y_nNRmNbaLE",
        "colab": {
          "base_uri": "https://localhost:8080/",
          "height": 432
        },
        "outputId": "547d65d7-8b62-4894-da0a-7d80aca771cb"
      },
      "source": [
        "df1 = df.groupby(['parental level of education','test preparation course'])[['reading score', 'math score', 'writing score']].mean()\n",
        "df1.sort_values('writing score', ascending = False)"
      ],
      "execution_count": 21,
      "outputs": [
        {
          "output_type": "execute_result",
          "data": {
            "text/html": [
              "<div>\n",
              "<style scoped>\n",
              "    .dataframe tbody tr th:only-of-type {\n",
              "        vertical-align: middle;\n",
              "    }\n",
              "\n",
              "    .dataframe tbody tr th {\n",
              "        vertical-align: top;\n",
              "    }\n",
              "\n",
              "    .dataframe thead th {\n",
              "        text-align: right;\n",
              "    }\n",
              "</style>\n",
              "<table border=\"1\" class=\"dataframe\">\n",
              "  <thead>\n",
              "    <tr style=\"text-align: right;\">\n",
              "      <th></th>\n",
              "      <th></th>\n",
              "      <th>reading score</th>\n",
              "      <th>math score</th>\n",
              "      <th>writing score</th>\n",
              "    </tr>\n",
              "    <tr>\n",
              "      <th>parental level of education</th>\n",
              "      <th>test preparation course</th>\n",
              "      <th></th>\n",
              "      <th></th>\n",
              "      <th></th>\n",
              "    </tr>\n",
              "  </thead>\n",
              "  <tbody>\n",
              "    <tr>\n",
              "      <th>master's degree</th>\n",
              "      <th>completed</th>\n",
              "      <td>78.250000</td>\n",
              "      <td>70.600000</td>\n",
              "      <td>80.100000</td>\n",
              "    </tr>\n",
              "    <tr>\n",
              "      <th>bachelor's degree</th>\n",
              "      <th>completed</th>\n",
              "      <td>76.739130</td>\n",
              "      <td>73.282609</td>\n",
              "      <td>78.695652</td>\n",
              "    </tr>\n",
              "    <tr>\n",
              "      <th>associate's degree</th>\n",
              "      <th>completed</th>\n",
              "      <td>76.170732</td>\n",
              "      <td>71.829268</td>\n",
              "      <td>76.817073</td>\n",
              "    </tr>\n",
              "    <tr>\n",
              "      <th>some college</th>\n",
              "      <th>completed</th>\n",
              "      <td>75.987013</td>\n",
              "      <td>71.454545</td>\n",
              "      <td>76.519481</td>\n",
              "    </tr>\n",
              "    <tr>\n",
              "      <th>master's degree</th>\n",
              "      <th>none</th>\n",
              "      <td>73.897436</td>\n",
              "      <td>69.307692</td>\n",
              "      <td>73.410256</td>\n",
              "    </tr>\n",
              "    <tr>\n",
              "      <th>some high school</th>\n",
              "      <th>completed</th>\n",
              "      <td>70.948052</td>\n",
              "      <td>66.701299</td>\n",
              "      <td>70.363636</td>\n",
              "    </tr>\n",
              "    <tr>\n",
              "      <th>bachelor's degree</th>\n",
              "      <th>none</th>\n",
              "      <td>70.611111</td>\n",
              "      <td>66.902778</td>\n",
              "      <td>69.986111</td>\n",
              "    </tr>\n",
              "    <tr>\n",
              "      <th>high school</th>\n",
              "      <th>completed</th>\n",
              "      <td>67.839286</td>\n",
              "      <td>65.000000</td>\n",
              "      <td>68.053571</td>\n",
              "    </tr>\n",
              "    <tr>\n",
              "      <th>associate's degree</th>\n",
              "      <th>none</th>\n",
              "      <td>67.857143</td>\n",
              "      <td>65.571429</td>\n",
              "      <td>65.842857</td>\n",
              "    </tr>\n",
              "    <tr>\n",
              "      <th>some college</th>\n",
              "      <th>none</th>\n",
              "      <td>66.087248</td>\n",
              "      <td>64.892617</td>\n",
              "      <td>64.872483</td>\n",
              "    </tr>\n",
              "    <tr>\n",
              "      <th>some high school</th>\n",
              "      <th>none</th>\n",
              "      <td>63.911765</td>\n",
              "      <td>61.078431</td>\n",
              "      <td>60.754902</td>\n",
              "    </tr>\n",
              "    <tr>\n",
              "      <th>high school</th>\n",
              "      <th>none</th>\n",
              "      <td>63.450000</td>\n",
              "      <td>60.992857</td>\n",
              "      <td>60.207143</td>\n",
              "    </tr>\n",
              "  </tbody>\n",
              "</table>\n",
              "</div>"
            ],
            "text/plain": [
              "                                                     reading score  ...  writing score\n",
              "parental level of education test preparation course                 ...               \n",
              "master's degree             completed                    78.250000  ...      80.100000\n",
              "bachelor's degree           completed                    76.739130  ...      78.695652\n",
              "associate's degree          completed                    76.170732  ...      76.817073\n",
              "some college                completed                    75.987013  ...      76.519481\n",
              "master's degree             none                         73.897436  ...      73.410256\n",
              "some high school            completed                    70.948052  ...      70.363636\n",
              "bachelor's degree           none                         70.611111  ...      69.986111\n",
              "high school                 completed                    67.839286  ...      68.053571\n",
              "associate's degree          none                         67.857143  ...      65.842857\n",
              "some college                none                         66.087248  ...      64.872483\n",
              "some high school            none                         63.911765  ...      60.754902\n",
              "high school                 none                         63.450000  ...      60.207143\n",
              "\n",
              "[12 rows x 3 columns]"
            ]
          },
          "metadata": {
            "tags": []
          },
          "execution_count": 21
        }
      ]
    },
    {
      "cell_type": "markdown",
      "metadata": {
        "id": "zo9SJxztbaLF"
      },
      "source": [
        "* **Students who have completed the test preparation course and with bachelor's degree as the parental level of education have higher average math scores**\n",
        "* **Students who have completed the test preparation course and with master's degree as the parental level of education have higher average reading scores**\n",
        "* **Students who have completed the test preparation course and with master's degree as the parental level of education have higher average writing scores**"
      ]
    },
    {
      "cell_type": "code",
      "metadata": {
        "id": "MyRMKIzJbaLF",
        "colab": {
          "base_uri": "https://localhost:8080/",
          "height": 254
        },
        "outputId": "5f1b8b33-c69a-4238-b010-31fa94500917"
      },
      "source": [
        "df.groupby('parental level of education')[['math score', 'reading score', 'writing score']].max()"
      ],
      "execution_count": 22,
      "outputs": [
        {
          "output_type": "execute_result",
          "data": {
            "text/html": [
              "<div>\n",
              "<style scoped>\n",
              "    .dataframe tbody tr th:only-of-type {\n",
              "        vertical-align: middle;\n",
              "    }\n",
              "\n",
              "    .dataframe tbody tr th {\n",
              "        vertical-align: top;\n",
              "    }\n",
              "\n",
              "    .dataframe thead th {\n",
              "        text-align: right;\n",
              "    }\n",
              "</style>\n",
              "<table border=\"1\" class=\"dataframe\">\n",
              "  <thead>\n",
              "    <tr style=\"text-align: right;\">\n",
              "      <th></th>\n",
              "      <th>math score</th>\n",
              "      <th>reading score</th>\n",
              "      <th>writing score</th>\n",
              "    </tr>\n",
              "    <tr>\n",
              "      <th>parental level of education</th>\n",
              "      <th></th>\n",
              "      <th></th>\n",
              "      <th></th>\n",
              "    </tr>\n",
              "  </thead>\n",
              "  <tbody>\n",
              "    <tr>\n",
              "      <th>associate's degree</th>\n",
              "      <td>100</td>\n",
              "      <td>100</td>\n",
              "      <td>100</td>\n",
              "    </tr>\n",
              "    <tr>\n",
              "      <th>bachelor's degree</th>\n",
              "      <td>100</td>\n",
              "      <td>100</td>\n",
              "      <td>100</td>\n",
              "    </tr>\n",
              "    <tr>\n",
              "      <th>high school</th>\n",
              "      <td>99</td>\n",
              "      <td>99</td>\n",
              "      <td>100</td>\n",
              "    </tr>\n",
              "    <tr>\n",
              "      <th>master's degree</th>\n",
              "      <td>95</td>\n",
              "      <td>100</td>\n",
              "      <td>100</td>\n",
              "    </tr>\n",
              "    <tr>\n",
              "      <th>some college</th>\n",
              "      <td>100</td>\n",
              "      <td>100</td>\n",
              "      <td>99</td>\n",
              "    </tr>\n",
              "    <tr>\n",
              "      <th>some high school</th>\n",
              "      <td>97</td>\n",
              "      <td>100</td>\n",
              "      <td>100</td>\n",
              "    </tr>\n",
              "  </tbody>\n",
              "</table>\n",
              "</div>"
            ],
            "text/plain": [
              "                             math score  reading score  writing score\n",
              "parental level of education                                          \n",
              "associate's degree                  100            100            100\n",
              "bachelor's degree                   100            100            100\n",
              "high school                          99             99            100\n",
              "master's degree                      95            100            100\n",
              "some college                        100            100             99\n",
              "some high school                     97            100            100"
            ]
          },
          "metadata": {
            "tags": []
          },
          "execution_count": 22
        }
      ]
    },
    {
      "cell_type": "code",
      "metadata": {
        "id": "kfXU5kTpbaLF",
        "colab": {
          "base_uri": "https://localhost:8080/",
          "height": 136
        },
        "outputId": "64a6e786-43aa-42bf-8a20-9879e720188a"
      },
      "source": [
        "df[df['average score'] == 100]"
      ],
      "execution_count": 23,
      "outputs": [
        {
          "output_type": "execute_result",
          "data": {
            "text/html": [
              "<div>\n",
              "<style scoped>\n",
              "    .dataframe tbody tr th:only-of-type {\n",
              "        vertical-align: middle;\n",
              "    }\n",
              "\n",
              "    .dataframe tbody tr th {\n",
              "        vertical-align: top;\n",
              "    }\n",
              "\n",
              "    .dataframe thead th {\n",
              "        text-align: right;\n",
              "    }\n",
              "</style>\n",
              "<table border=\"1\" class=\"dataframe\">\n",
              "  <thead>\n",
              "    <tr style=\"text-align: right;\">\n",
              "      <th></th>\n",
              "      <th>gender</th>\n",
              "      <th>race/ethnicity</th>\n",
              "      <th>parental level of education</th>\n",
              "      <th>lunch</th>\n",
              "      <th>test preparation course</th>\n",
              "      <th>math score</th>\n",
              "      <th>reading score</th>\n",
              "      <th>writing score</th>\n",
              "      <th>average score</th>\n",
              "    </tr>\n",
              "  </thead>\n",
              "  <tbody>\n",
              "    <tr>\n",
              "      <th>458</th>\n",
              "      <td>female</td>\n",
              "      <td>group E</td>\n",
              "      <td>bachelor's degree</td>\n",
              "      <td>standard</td>\n",
              "      <td>none</td>\n",
              "      <td>100</td>\n",
              "      <td>100</td>\n",
              "      <td>100</td>\n",
              "      <td>100.0</td>\n",
              "    </tr>\n",
              "    <tr>\n",
              "      <th>916</th>\n",
              "      <td>male</td>\n",
              "      <td>group E</td>\n",
              "      <td>bachelor's degree</td>\n",
              "      <td>standard</td>\n",
              "      <td>completed</td>\n",
              "      <td>100</td>\n",
              "      <td>100</td>\n",
              "      <td>100</td>\n",
              "      <td>100.0</td>\n",
              "    </tr>\n",
              "    <tr>\n",
              "      <th>962</th>\n",
              "      <td>female</td>\n",
              "      <td>group E</td>\n",
              "      <td>associate's degree</td>\n",
              "      <td>standard</td>\n",
              "      <td>none</td>\n",
              "      <td>100</td>\n",
              "      <td>100</td>\n",
              "      <td>100</td>\n",
              "      <td>100.0</td>\n",
              "    </tr>\n",
              "  </tbody>\n",
              "</table>\n",
              "</div>"
            ],
            "text/plain": [
              "     gender race/ethnicity  ... writing score average score\n",
              "458  female        group E  ...           100         100.0\n",
              "916    male        group E  ...           100         100.0\n",
              "962  female        group E  ...           100         100.0\n",
              "\n",
              "[3 rows x 9 columns]"
            ]
          },
          "metadata": {
            "tags": []
          },
          "execution_count": 23
        }
      ]
    },
    {
      "cell_type": "markdown",
      "metadata": {
        "id": "N9XjyHw0baLF"
      },
      "source": [
        "* **Only three students (1 male and 2 female) have scored full marks in every subject. They all belong group E of race/ethnicity** \n",
        "* **Out of those three students, only one (male) has completed the test preparation course**"
      ]
    },
    {
      "cell_type": "markdown",
      "metadata": {
        "id": "7AXcw6R9baLF"
      },
      "source": [
        "### let's take a look at the students who have scored more than 90 on average"
      ]
    },
    {
      "cell_type": "code",
      "metadata": {
        "id": "oqwy7InYbaLF",
        "colab": {
          "base_uri": "https://localhost:8080/",
          "height": 195
        },
        "outputId": "8ab82903-314b-44c5-e515-4a4f9bbeb57a"
      },
      "source": [
        "average_score_df = df[df['average score'] >= 90][df.columns]\n",
        "average_score_df.head()\n",
        "\n",
        "# uncomment the following code to get the value counts of each categorical column\n",
        "\n",
        "# columns = ['gender', 'race/ethnicity', 'parental level of education', 'lunch','test preparation course']\n",
        "# for col in columns:\n",
        "#     print(col)\n",
        "#     print(average_score_df[col].value_counts())\n",
        "#     print('\\n')"
      ],
      "execution_count": 36,
      "outputs": [
        {
          "output_type": "execute_result",
          "data": {
            "text/html": [
              "<div>\n",
              "<style scoped>\n",
              "    .dataframe tbody tr th:only-of-type {\n",
              "        vertical-align: middle;\n",
              "    }\n",
              "\n",
              "    .dataframe tbody tr th {\n",
              "        vertical-align: top;\n",
              "    }\n",
              "\n",
              "    .dataframe thead th {\n",
              "        text-align: right;\n",
              "    }\n",
              "</style>\n",
              "<table border=\"1\" class=\"dataframe\">\n",
              "  <thead>\n",
              "    <tr style=\"text-align: right;\">\n",
              "      <th></th>\n",
              "      <th>gender</th>\n",
              "      <th>race/ethnicity</th>\n",
              "      <th>parental level of education</th>\n",
              "      <th>lunch</th>\n",
              "      <th>test preparation course</th>\n",
              "      <th>math score</th>\n",
              "      <th>reading score</th>\n",
              "      <th>writing score</th>\n",
              "      <th>average score</th>\n",
              "    </tr>\n",
              "  </thead>\n",
              "  <tbody>\n",
              "    <tr>\n",
              "      <th>2</th>\n",
              "      <td>female</td>\n",
              "      <td>group B</td>\n",
              "      <td>master's degree</td>\n",
              "      <td>standard</td>\n",
              "      <td>none</td>\n",
              "      <td>90</td>\n",
              "      <td>95</td>\n",
              "      <td>93</td>\n",
              "      <td>92.666667</td>\n",
              "    </tr>\n",
              "    <tr>\n",
              "      <th>6</th>\n",
              "      <td>female</td>\n",
              "      <td>group B</td>\n",
              "      <td>some college</td>\n",
              "      <td>standard</td>\n",
              "      <td>completed</td>\n",
              "      <td>88</td>\n",
              "      <td>95</td>\n",
              "      <td>92</td>\n",
              "      <td>91.666667</td>\n",
              "    </tr>\n",
              "    <tr>\n",
              "      <th>104</th>\n",
              "      <td>male</td>\n",
              "      <td>group C</td>\n",
              "      <td>some college</td>\n",
              "      <td>standard</td>\n",
              "      <td>completed</td>\n",
              "      <td>98</td>\n",
              "      <td>86</td>\n",
              "      <td>90</td>\n",
              "      <td>91.333333</td>\n",
              "    </tr>\n",
              "    <tr>\n",
              "      <th>106</th>\n",
              "      <td>female</td>\n",
              "      <td>group D</td>\n",
              "      <td>master's degree</td>\n",
              "      <td>standard</td>\n",
              "      <td>none</td>\n",
              "      <td>87</td>\n",
              "      <td>100</td>\n",
              "      <td>100</td>\n",
              "      <td>95.666667</td>\n",
              "    </tr>\n",
              "    <tr>\n",
              "      <th>114</th>\n",
              "      <td>female</td>\n",
              "      <td>group E</td>\n",
              "      <td>bachelor's degree</td>\n",
              "      <td>standard</td>\n",
              "      <td>completed</td>\n",
              "      <td>99</td>\n",
              "      <td>100</td>\n",
              "      <td>100</td>\n",
              "      <td>99.666667</td>\n",
              "    </tr>\n",
              "  </tbody>\n",
              "</table>\n",
              "</div>"
            ],
            "text/plain": [
              "     gender race/ethnicity  ... writing score average score\n",
              "2    female        group B  ...            93     92.666667\n",
              "6    female        group B  ...            92     91.666667\n",
              "104    male        group C  ...            90     91.333333\n",
              "106  female        group D  ...           100     95.666667\n",
              "114  female        group E  ...           100     99.666667\n",
              "\n",
              "[5 rows x 9 columns]"
            ]
          },
          "metadata": {
            "tags": []
          },
          "execution_count": 36
        }
      ]
    },
    {
      "cell_type": "markdown",
      "metadata": {
        "id": "t2akhIIGbaLG"
      },
      "source": [
        "***52 Students have scored 90 or more average marks***"
      ]
    },
    {
      "cell_type": "markdown",
      "metadata": {
        "id": "T_NqPpN-baLG"
      },
      "source": [
        "**Here are some interesting results from the above dataset**\n",
        "* 73 percent are female students\n",
        "* 78 percent of the students belong to group C, E, and D\n",
        "* Around 77 percent of the students have \"associate's degree, bachelor's degree or some college\" as the parental level of education\n",
        "* 67.30 (35 students) have completed the test preparation course\n",
        "* Only 4 student with socio-economic disadvantage have managed to score more than 90 average marks"
      ]
    },
    {
      "cell_type": "markdown",
      "metadata": {
        "id": "TU4Zxhv0baLH"
      },
      "source": [
        "### Let's find out how the parental level of education affects the students' performance\n",
        "**We will consider two extreme cases**\n",
        "* high school \n",
        "* master's degree"
      ]
    },
    {
      "cell_type": "code",
      "metadata": {
        "id": "v_3QCct0baLH"
      },
      "source": [
        "high_school_df = df[df['parental level of education'] == 'high school'][df.columns]\n",
        "masters_degree_df = df[df['parental level of education'] == \"master's degree\"][df.columns]"
      ],
      "execution_count": 26,
      "outputs": []
    },
    {
      "cell_type": "code",
      "metadata": {
        "id": "fcbXpfOxbaLH"
      },
      "source": [
        "# Score columns\n",
        "score_cols = ['math score', 'reading score', 'writing score']\n",
        "\n",
        "# categorical columns\n",
        "cat_cols = ['gender', 'race/ethnicity','lunch','test preparation course']\n",
        "\n",
        "\n",
        "# Let's define some functions to know the data better \n",
        "# these will be used for both high_school_df and masters_degree_df\n",
        "\n",
        "# function to get the basic statistics\n",
        "def stat(df):\n",
        "    for col in score_cols:\n",
        "        print(col.upper())\n",
        "        print('Mean: ' + str(df[col].mean()))\n",
        "        print('Median: ' + str(df[col].median()))\n",
        "        print('Maximum score: '+ str(df[col].max()))\n",
        "        print('Minimum score: '+ str(df[col].min()))\n",
        "        print('--------------------')\n",
        "        \n",
        "# function to get the value counts \n",
        "def value_counts(df):\n",
        "    for col in cat_cols:\n",
        "        print(col.upper())\n",
        "        print(df[col].value_counts())\n",
        "        print('-------------------')"
      ],
      "execution_count": 27,
      "outputs": []
    },
    {
      "cell_type": "code",
      "metadata": {
        "id": "OClJrpn8baLI",
        "colab": {
          "base_uri": "https://localhost:8080/"
        },
        "outputId": "6b95d10b-f3c0-4d5e-a654-e9217c5f6c9c"
      },
      "source": [
        "print('Parental level of education: High School')\n",
        "stat(high_school_df)\n",
        "print('*****************************')\n",
        "print(\"Parental level of education: Master's degree\")\n",
        "stat(masters_degree_df)"
      ],
      "execution_count": 28,
      "outputs": [
        {
          "output_type": "stream",
          "text": [
            "Parental level of education: High School\n",
            "MATH SCORE\n",
            "Mean: 62.13775510204081\n",
            "Median: 63.0\n",
            "Maximum score: 99\n",
            "Minimum score: 8\n",
            "--------------------\n",
            "READING SCORE\n",
            "Mean: 64.70408163265306\n",
            "Median: 66.0\n",
            "Maximum score: 99\n",
            "Minimum score: 24\n",
            "--------------------\n",
            "WRITING SCORE\n",
            "Mean: 62.44897959183673\n",
            "Median: 64.0\n",
            "Maximum score: 100\n",
            "Minimum score: 15\n",
            "--------------------\n",
            "*****************************\n",
            "Parental level of education: Master's degree\n",
            "MATH SCORE\n",
            "Mean: 69.7457627118644\n",
            "Median: 73.0\n",
            "Maximum score: 95\n",
            "Minimum score: 40\n",
            "--------------------\n",
            "READING SCORE\n",
            "Mean: 75.37288135593221\n",
            "Median: 76.0\n",
            "Maximum score: 100\n",
            "Minimum score: 42\n",
            "--------------------\n",
            "WRITING SCORE\n",
            "Mean: 75.67796610169492\n",
            "Median: 75.0\n",
            "Maximum score: 100\n",
            "Minimum score: 46\n",
            "--------------------\n"
          ],
          "name": "stdout"
        }
      ]
    },
    {
      "cell_type": "markdown",
      "metadata": {
        "id": "YLsP7RKHbaLI"
      },
      "source": [
        "* **The maximum score across all the subjects in both the categories is nearly same.**\n",
        "* **The minimum score however is very less among the students with parental level of education as high school**\n",
        "* **The mean and the median score is higher among the students with parental level of education as master's degree**"
      ]
    },
    {
      "cell_type": "code",
      "metadata": {
        "id": "5PkKUNhWbaLI",
        "colab": {
          "base_uri": "https://localhost:8080/"
        },
        "outputId": "316850f7-f694-4ecb-a05b-a975ef188921"
      },
      "source": [
        "print('Parental level of education: High School')\n",
        "value_counts(high_school_df)\n",
        "print('*****************************')\n",
        "print(\"Parental level of education: Master's degree\")\n",
        "value_counts(masters_degree_df)"
      ],
      "execution_count": 29,
      "outputs": [
        {
          "output_type": "stream",
          "text": [
            "Parental level of education: High School\n",
            "GENDER\n",
            "male      102\n",
            "female     94\n",
            "Name: gender, dtype: int64\n",
            "-------------------\n",
            "RACE/ETHNICITY\n",
            "group C    64\n",
            "group B    48\n",
            "group D    44\n",
            "group E    22\n",
            "group A    18\n",
            "Name: race/ethnicity, dtype: int64\n",
            "-------------------\n",
            "LUNCH\n",
            "standard        126\n",
            "free/reduced     70\n",
            "Name: lunch, dtype: int64\n",
            "-------------------\n",
            "TEST PREPARATION COURSE\n",
            "none         140\n",
            "completed     56\n",
            "Name: test preparation course, dtype: int64\n",
            "-------------------\n",
            "*****************************\n",
            "Parental level of education: Master's degree\n",
            "GENDER\n",
            "female    36\n",
            "male      23\n",
            "Name: gender, dtype: int64\n",
            "-------------------\n",
            "RACE/ETHNICITY\n",
            "group D    23\n",
            "group C    19\n",
            "group E     8\n",
            "group B     6\n",
            "group A     3\n",
            "Name: race/ethnicity, dtype: int64\n",
            "-------------------\n",
            "LUNCH\n",
            "standard        35\n",
            "free/reduced    24\n",
            "Name: lunch, dtype: int64\n",
            "-------------------\n",
            "TEST PREPARATION COURSE\n",
            "none         39\n",
            "completed    20\n",
            "Name: test preparation course, dtype: int64\n",
            "-------------------\n"
          ],
          "name": "stdout"
        }
      ]
    },
    {
      "cell_type": "markdown",
      "metadata": {
        "id": "ExxTk73SbaLI"
      },
      "source": [
        "* **For high school level of parental education, 35.71% are at socio-economic disadvantage. While for master's degreee level of parental education 40.67% are at socio-economic disadvantage**\n",
        "* **For high school level of parental education, only 28.57% students have completed the test preparation course, but in case of master's degree level of parental education, 33.89% students have completed the test preparation course**"
      ]
    },
    {
      "cell_type": "markdown",
      "metadata": {
        "id": "2UNmju4k5Wrq"
      },
      "source": [
        "##References\r\n",
        "* https://pandas.pydata.org/docs/\r\n",
        "* https://numpy.org/doc/\r\n",
        "* https://matplotlib.org/stable/contents.html\r\n",
        "* https://seaborn.pydata.org/\r\n"
      ]
    },
    {
      "cell_type": "code",
      "metadata": {
        "id": "1ggz4O25baLJ"
      },
      "source": [
        ""
      ],
      "execution_count": 51,
      "outputs": []
    },
    {
      "cell_type": "code",
      "metadata": {
        "id": "oF_sKTC52R6Y"
      },
      "source": [
        ""
      ],
      "execution_count": 47,
      "outputs": []
    },
    {
      "cell_type": "code",
      "metadata": {
        "id": "pH_hzGZ_3_it"
      },
      "source": [
        ""
      ],
      "execution_count": 48,
      "outputs": []
    },
    {
      "cell_type": "code",
      "metadata": {
        "id": "IoUy4ojK4Cu6"
      },
      "source": [
        ""
      ],
      "execution_count": null,
      "outputs": []
    }
  ]
}